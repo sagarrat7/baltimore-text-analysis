{
 "cells": [
  {
   "cell_type": "markdown",
   "metadata": {},
   "source": [
    "# Mapping Inequality in Baltimore : Text Analysis"
   ]
  },
  {
   "cell_type": "markdown",
   "metadata": {},
   "source": [
    "## Introduction "
   ]
  },
  {
   "cell_type": "markdown",
   "metadata": {},
   "source": [
    "## Gathering Data"
   ]
  },
  {
   "cell_type": "code",
   "execution_count": 5,
   "metadata": {
    "collapsed": false
   },
   "outputs": [
    {
     "data": {
      "text/html": [
       "<div>\n",
       "<table border=\"1\" class=\"dataframe\">\n",
       "  <thead>\n",
       "    <tr style=\"text-align: right;\">\n",
       "      <th></th>\n",
       "      <th>Form</th>\n",
       "      <th>State</th>\n",
       "      <th>City</th>\n",
       "      <th>Security_Grade</th>\n",
       "      <th>Area_Number</th>\n",
       "      <th>Terrain_Description</th>\n",
       "      <th>Favorable_Influences</th>\n",
       "      <th>Detrimental_Influences</th>\n",
       "      <th>INHABITANTS_Type</th>\n",
       "      <th>INHABITANTS_Annual_Income</th>\n",
       "      <th>...</th>\n",
       "      <th>INHABITANTS_Population_Increase</th>\n",
       "      <th>INHABITANTS_Population_Decrease</th>\n",
       "      <th>INHABITANTS_Population_Static</th>\n",
       "      <th>BUILDINGS_Types</th>\n",
       "      <th>BUILDINGS_Construction</th>\n",
       "      <th>BUILDINGS_Age</th>\n",
       "      <th>BUILDINGS_Repair</th>\n",
       "      <th>Ten_Fifteen_Desirability</th>\n",
       "      <th>Remarks</th>\n",
       "      <th>Date</th>\n",
       "    </tr>\n",
       "  </thead>\n",
       "  <tbody>\n",
       "    <tr>\n",
       "      <th>0</th>\n",
       "      <td>NS FORM-8 6-1-37</td>\n",
       "      <td>Maryland</td>\n",
       "      <td>Baltimore</td>\n",
       "      <td>A</td>\n",
       "      <td>2</td>\n",
       "      <td>Rolling</td>\n",
       "      <td>Fairly new suburban area of homogeneous charac...</td>\n",
       "      <td>None</td>\n",
       "      <td>Substantial Middle Class</td>\n",
       "      <td>$3000 - 5,000</td>\n",
       "      <td>...</td>\n",
       "      <td>Fast</td>\n",
       "      <td>NaN</td>\n",
       "      <td>NaN</td>\n",
       "      <td>Detached an row houses</td>\n",
       "      <td>Brick and frame</td>\n",
       "      <td>1 to 10 years</td>\n",
       "      <td>Good</td>\n",
       "      <td>Upward</td>\n",
       "      <td>A recent development with much room for expans...</td>\n",
       "      <td>May 4,1937</td>\n",
       "    </tr>\n",
       "    <tr>\n",
       "      <th>1</th>\n",
       "      <td>NS FORM-8 6-1-37</td>\n",
       "      <td>Maryland</td>\n",
       "      <td>Baltimore</td>\n",
       "      <td>A</td>\n",
       "      <td>1</td>\n",
       "      <td>Undulating</td>\n",
       "      <td>Very nicely planned residential area of medium...</td>\n",
       "      <td>None</td>\n",
       "      <td>Executives, Professional Men</td>\n",
       "      <td>over $5000</td>\n",
       "      <td>...</td>\n",
       "      <td>Moderately Fast</td>\n",
       "      <td>NaN</td>\n",
       "      <td>NaN</td>\n",
       "      <td>Single family detached</td>\n",
       "      <td>Brick and Stone</td>\n",
       "      <td>12 years</td>\n",
       "      <td>Very good</td>\n",
       "      <td>Upward</td>\n",
       "      <td>Mostly fee properties. A few homes valued at $...</td>\n",
       "      <td>May 4,1937</td>\n",
       "    </tr>\n",
       "    <tr>\n",
       "      <th>2</th>\n",
       "      <td>NS FORM-8 6-1-37</td>\n",
       "      <td>Maryland</td>\n",
       "      <td>Baltimore</td>\n",
       "      <td>A</td>\n",
       "      <td>3</td>\n",
       "      <td>Rolling</td>\n",
       "      <td>Good residential area. Well planned.</td>\n",
       "      <td>Distance to City</td>\n",
       "      <td>Executives, Professional Men</td>\n",
       "      <td>3500 - 7000</td>\n",
       "      <td>...</td>\n",
       "      <td>Moderately Fast</td>\n",
       "      <td>NaN</td>\n",
       "      <td>NaN</td>\n",
       "      <td>One family detached</td>\n",
       "      <td>Brick, Stone, and Frame</td>\n",
       "      <td>1 to 20 years</td>\n",
       "      <td>Good to excellent</td>\n",
       "      <td>Upward</td>\n",
       "      <td>Principally fee property. This section lies in...</td>\n",
       "      <td>May 4,1937</td>\n",
       "    </tr>\n",
       "  </tbody>\n",
       "</table>\n",
       "<p>3 rows × 26 columns</p>\n",
       "</div>"
      ],
      "text/plain": [
       "               Form     State        City Security_Grade  Area_Number  \\\n",
       "0  NS FORM-8 6-1-37  Maryland  Baltimore               A            2   \n",
       "1  NS FORM-8 6-1-37  Maryland  Baltimore               A            1   \n",
       "2  NS FORM-8 6-1-37  Maryland  Baltimore              A             3   \n",
       "\n",
       "  Terrain_Description                               Favorable_Influences  \\\n",
       "0             Rolling  Fairly new suburban area of homogeneous charac...   \n",
       "1         Undulating   Very nicely planned residential area of medium...   \n",
       "2             Rolling               Good residential area. Well planned.   \n",
       "\n",
       "  Detrimental_Influences              INHABITANTS_Type  \\\n",
       "0                   None      Substantial Middle Class   \n",
       "1                   None  Executives, Professional Men   \n",
       "2       Distance to City  Executives, Professional Men   \n",
       "\n",
       "  INHABITANTS_Annual_Income     ...     INHABITANTS_Population_Increase  \\\n",
       "0             $3000 - 5,000     ...                               Fast    \n",
       "1                over $5000     ...                     Moderately Fast   \n",
       "2               3500 - 7000     ...                     Moderately Fast   \n",
       "\n",
       "   INHABITANTS_Population_Decrease INHABITANTS_Population_Static  \\\n",
       "0                              NaN                           NaN   \n",
       "1                              NaN                           NaN   \n",
       "2                              NaN                           NaN   \n",
       "\n",
       "          BUILDINGS_Types   BUILDINGS_Construction  BUILDINGS_Age  \\\n",
       "0  Detached an row houses          Brick and frame  1 to 10 years   \n",
       "1  Single family detached          Brick and Stone       12 years   \n",
       "2     One family detached  Brick, Stone, and Frame  1 to 20 years   \n",
       "\n",
       "    BUILDINGS_Repair Ten_Fifteen_Desirability  \\\n",
       "0               Good                   Upward   \n",
       "1          Very good                   Upward   \n",
       "2  Good to excellent                   Upward   \n",
       "\n",
       "                                             Remarks        Date  \n",
       "0  A recent development with much room for expans...  May 4,1937  \n",
       "1  Mostly fee properties. A few homes valued at $...  May 4,1937  \n",
       "2  Principally fee property. This section lies in...  May 4,1937  \n",
       "\n",
       "[3 rows x 26 columns]"
      ]
     },
     "execution_count": 5,
     "metadata": {},
     "output_type": "execute_result"
    }
   ],
   "source": [
    "# Loads the Pandas library \n",
    "import pandas as pd\n",
    "\n",
    "# Creates data frame named df by reading in the Baltimore csv\n",
    "df = pd.read_csv(\"AD_Data_BaltimoreProject.csv\")\n",
    "df.head(n=3)"
   ]
  },
  {
   "cell_type": "code",
   "execution_count": 6,
   "metadata": {
    "collapsed": false
   },
   "outputs": [
    {
     "data": {
      "text/plain": [
       "0     Fairly new suburban area of homogeneous charac...\n",
       "1     Very nicely planned residential area of medium...\n",
       "2                  Good residential area. Well planned.\n",
       "3                    Well planned development of fairly\n",
       "4     Desirable residential section. Good quality, m...\n",
       "5             To be developed as high grade development\n",
       "6     Desirable old residential section. Principally...\n",
       "7     Restricted, desirable residential section of m...\n",
       "8     Good residential section of fast moving property.\n",
       "9     Good suburban residential area of modest homes...\n",
       "10    Good residential section of homogeneous charac...\n",
       "11       Near Druid Hill Park. Close to center of city.\n",
       "12          Stable residential section of modest homes.\n",
       "13            Good residential area holding up in value\n",
       "14    Fairly good residential section with all conve...\n",
       "15    Desirable residential section, homogeneous as ...\n",
       "16    Homogeneous development. Near to parks. Transp...\n",
       "17    Near to Sparrows Point. Desirable residential ...\n",
       "18      Quiet suburban section of homogeneous character\n",
       "19                     Outlying quiet suburban section.\n",
       "20    Stable old residential section of good character.\n",
       "21    Outlying quiet suburban section. County east o...\n",
       "22    Very high. Fairly new residential section of h...\n",
       "23    Desirable residential section of very good cha...\n",
       "24    Suburban atmosphere. Desirable residential sec...\n",
       "25    A fairly new development of single homes in de...\n",
       "26    The natural section for expansion from Liberty...\n",
       "27    Desirable residential section of good characte...\n",
       "28    Close to commercial area. Fairly desirable res...\n",
       "29            Stable residential area of modest houses.\n",
       "30    Conversion value of location for business purp...\n",
       "31    Outlying residential section of small modest h...\n",
       "32                                                 None\n",
       "33                      Proximity to industrial plants.\n",
       "34    Old residential section of modest character in...\n",
       "35      Fairly good residential section of modest homes\n",
       "36    Proximity to Patterson Park. Near to industria...\n",
       "37      Near to employment, particularly Sparrows Point\n",
       "38    Fairly desirable residential area of rather ol...\n",
       "39    Close to commercial area. Goucher college loca...\n",
       "40                        Proximity to Druid Hill Park.\n",
       "41                             Close to commercial area\n",
       "42                                                  NaN\n",
       "43                                 Fairly good location\n",
       "44            Fairly desirable section of modest houses\n",
       "45                         On Washington-Baltimore Pike\n",
       "46                                  Suburban atmosphere\n",
       "47     Similar in general character to Lansdowns (C-19)\n",
       "48    Similar in character to Lansdowne except furth...\n",
       "49             Similar in character to Lansdowne (C-19)\n",
       "50    Proximity to employment, industrial and commer...\n",
       "51                      Close to industrial employment.\n",
       "52               Good transportation. Central location.\n",
       "53                   Central location. Near employment.\n",
       "54                           Near desirable properties.\n",
       "55           Central locations. Conversion to business.\n",
       "56    Central location. Conversion value for busines...\n",
       "Name: Favorable_Influences, dtype: object"
      ]
     },
     "execution_count": 6,
     "metadata": {},
     "output_type": "execute_result"
    }
   ],
   "source": [
    "df['Favorable_Influences']"
   ]
  },
  {
   "cell_type": "code",
   "execution_count": 7,
   "metadata": {
    "collapsed": true
   },
   "outputs": [],
   "source": [
    "# Convert from type object to type string \n",
    "df['Favorable_Influences'] = df['Favorable_Influences'].astype(str)\n",
    "# Case normalization\n",
    "df['Favorable_Influences'] = df['Favorable_Influences'].str.lower()"
   ]
  },
  {
   "cell_type": "code",
   "execution_count": 8,
   "metadata": {
    "collapsed": false
   },
   "outputs": [
    {
     "data": {
      "text/plain": [
       "0     fairly new suburban area of homogeneous charac...\n",
       "1     very nicely planned residential area of medium...\n",
       "2                  good residential area. well planned.\n",
       "3                    well planned development of fairly\n",
       "4     desirable residential section. good quality, m...\n",
       "5             to be developed as high grade development\n",
       "6     desirable old residential section. principally...\n",
       "7     restricted, desirable residential section of m...\n",
       "8     good residential section of fast moving property.\n",
       "9     good suburban residential area of modest homes...\n",
       "10    good residential section of homogeneous charac...\n",
       "11       near druid hill park. close to center of city.\n",
       "12          stable residential section of modest homes.\n",
       "13            good residential area holding up in value\n",
       "14    fairly good residential section with all conve...\n",
       "Name: Favorable_Influences, dtype: object"
      ]
     },
     "execution_count": 8,
     "metadata": {},
     "output_type": "execute_result"
    }
   ],
   "source": [
    "df['Favorable_Influences'][0:15]"
   ]
  },
  {
   "cell_type": "code",
   "execution_count": 9,
   "metadata": {
    "collapsed": true
   },
   "outputs": [],
   "source": [
    "# remove punctuation \n",
    "df['Favorable_Influences'] = df['Favorable_Influences'].str.replace('[^\\w\\s]','')"
   ]
  },
  {
   "cell_type": "code",
   "execution_count": 10,
   "metadata": {
    "collapsed": false
   },
   "outputs": [
    {
     "data": {
      "text/plain": [
       "0     fairly new suburban area of homogeneous charac...\n",
       "1     very nicely planned residential area of medium...\n",
       "2                    good residential area well planned\n",
       "3                    well planned development of fairly\n",
       "4     desirable residential section good quality med...\n",
       "5             to be developed as high grade development\n",
       "6     desirable old residential section principally ...\n",
       "7     restricted desirable residential section of mo...\n",
       "8      good residential section of fast moving property\n",
       "9     good suburban residential area of modest homes...\n",
       "10    good residential section of homogeneous character\n",
       "11         near druid hill park close to center of city\n",
       "12           stable residential section of modest homes\n",
       "13            good residential area holding up in value\n",
       "14    fairly good residential section with all conve...\n",
       "Name: Favorable_Influences, dtype: object"
      ]
     },
     "execution_count": 10,
     "metadata": {},
     "output_type": "execute_result"
    }
   ],
   "source": [
    "df['Favorable_Influences'][0:15]"
   ]
  },
  {
   "cell_type": "code",
   "execution_count": 11,
   "metadata": {
    "collapsed": true
   },
   "outputs": [],
   "source": [
    "# tokenization - where every work is a token \n",
    "df['Favorable_Influences'] = df['Favorable_Influences'].str.split('[\\W_]+')"
   ]
  },
  {
   "cell_type": "code",
   "execution_count": 12,
   "metadata": {
    "collapsed": true
   },
   "outputs": [],
   "source": [
    "df['Favorable_Influences_clean'] = df['Favorable_Influences']"
   ]
  },
  {
   "cell_type": "code",
   "execution_count": 13,
   "metadata": {
    "collapsed": false
   },
   "outputs": [
    {
     "data": {
      "text/plain": [
       "0     [fairly, new, suburban, area, of, homogeneous,...\n",
       "1     [very, nicely, planned, residential, area, of,...\n",
       "2              [good, residential, area, well, planned]\n",
       "3              [well, planned, development, of, fairly]\n",
       "4     [desirable, residential, section, good, qualit...\n",
       "5     [to, be, developed, as, high, grade, development]\n",
       "6     [desirable, old, residential, section, princip...\n",
       "7     [restricted, desirable, residential, section, ...\n",
       "8     [good, residential, section, of, fast, moving,...\n",
       "9     [good, suburban, residential, area, of, modest...\n",
       "10    [good, residential, section, of, homogeneous, ...\n",
       "11    [near, druid, hill, park, close, to, center, o...\n",
       "12    [stable, residential, section, of, modest, homes]\n",
       "13    [good, residential, area, holding, up, in, value]\n",
       "14    [fairly, good, residential, section, with, all...\n",
       "Name: Favorable_Influences_clean, dtype: object"
      ]
     },
     "execution_count": 13,
     "metadata": {},
     "output_type": "execute_result"
    }
   ],
   "source": [
    "df['Favorable_Influences_clean'][0:15]"
   ]
  },
  {
   "cell_type": "code",
   "execution_count": 14,
   "metadata": {
    "collapsed": false
   },
   "outputs": [
    {
     "name": "stdout",
     "output_type": "stream",
     "text": [
      "[nltk_data] Downloading package stopwords to\n",
      "[nltk_data]     /Users/sarahagarrat/nltk_data...\n",
      "[nltk_data]   Package stopwords is already up-to-date!\n"
     ]
    },
    {
     "data": {
      "text/plain": [
       "0     [fairly, new, suburban, area, homogeneous, cha...\n",
       "1     [nicely, planned, residential, area, medium, l...\n",
       "2              [good, residential, area, well, planned]\n",
       "3                  [well, planned, development, fairly]\n",
       "4     [desirable, residential, section, good, qualit...\n",
       "5                 [developed, high, grade, development]\n",
       "6     [desirable, old, residential, section, princip...\n",
       "7     [restricted, desirable, residential, section, ...\n",
       "8     [good, residential, section, fast, moving, pro...\n",
       "9     [good, suburban, residential, area, modest, ho...\n",
       "10    [good, residential, section, homogeneous, char...\n",
       "11       [near, druid, hill, park, close, center, city]\n",
       "12        [stable, residential, section, modest, homes]\n",
       "13            [good, residential, area, holding, value]\n",
       "14    [fairly, good, residential, section, convenien...\n",
       "15    [desirable, residential, section, homogeneous,...\n",
       "16    [homogeneous, development, near, parks, transp...\n",
       "17    [near, sparrows, point, desirable, residential...\n",
       "18    [quiet, suburban, section, homogeneous, charac...\n",
       "19                 [outlying, quiet, suburban, section]\n",
       "20    [stable, old, residential, section, good, char...\n",
       "21    [outlying, quiet, suburban, section, county, e...\n",
       "22    [high, fairly, new, residential, section, homo...\n",
       "23    [desirable, residential, section, good, charac...\n",
       "24    [suburban, atmosphere, desirable, residential,...\n",
       "25    [fairly, new, development, single, homes, desi...\n",
       "26    [natural, section, expansion, liberty, heights...\n",
       "27    [desirable, residential, section, good, charac...\n",
       "28    [close, commercial, area, fairly, desirable, r...\n",
       "29          [stable, residential, area, modest, houses]\n",
       "30    [conversion, value, location, business, purpos...\n",
       "31    [outlying, residential, section, small, modest...\n",
       "32                                               [none]\n",
       "33                      [proximity, industrial, plants]\n",
       "34    [old, residential, section, modest, character,...\n",
       "35    [fairly, good, residential, section, modest, h...\n",
       "36    [proximity, patterson, park, near, industrial,...\n",
       "37    [near, employment, particularly, sparrows, point]\n",
       "38    [fairly, desirable, residential, area, rather,...\n",
       "39    [close, commercial, area, goucher, college, lo...\n",
       "40                       [proximity, druid, hill, park]\n",
       "41                            [close, commercial, area]\n",
       "42                                                [nan]\n",
       "43                             [fairly, good, location]\n",
       "44         [fairly, desirable, section, modest, houses]\n",
       "45                          [washingtonbaltimore, pike]\n",
       "46                               [suburban, atmosphere]\n",
       "47        [similar, general, character, lansdowns, c19]\n",
       "48    [similar, character, lansdowne, except, remove...\n",
       "49                 [similar, character, lansdowne, c19]\n",
       "50    [proximity, employment, industrial, commercial, ]\n",
       "51                      [close, industrial, employment]\n",
       "52            [good, transportation, central, location]\n",
       "53                [central, location, near, employment]\n",
       "54                        [near, desirable, properties]\n",
       "55           [central, locations, conversion, business]\n",
       "56    [central, location, conversion, value, busines...\n",
       "Name: Favorable_Influences_clean, dtype: object"
      ]
     },
     "execution_count": 14,
     "metadata": {},
     "output_type": "execute_result"
    }
   ],
   "source": [
    "import nltk\n",
    "from nltk.corpus import stopwords\n",
    "nltk.download('stopwords')\n",
    "stop_words = stopwords.words('english')\n",
    "df['Favorable_Influences_clean'].apply(lambda x: [item for item in x if item not in stop_words])"
   ]
  },
  {
   "cell_type": "code",
   "execution_count": 15,
   "metadata": {
    "collapsed": true
   },
   "outputs": [],
   "source": [
    "from collections import Counter\n",
    "df['word_count'] = df['Favorable_Influences_clean'].apply(Counter)"
   ]
  },
  {
   "cell_type": "code",
   "execution_count": 16,
   "metadata": {
    "collapsed": false
   },
   "outputs": [
    {
     "data": {
      "text/plain": [
       "Counter({'': 1,\n",
       "         'area': 2,\n",
       "         'character': 1,\n",
       "         'city': 1,\n",
       "         'close': 1,\n",
       "         'development': 1,\n",
       "         'fairly': 2,\n",
       "         'homogeneous': 1,\n",
       "         'near': 2,\n",
       "         'new': 1,\n",
       "         'of': 1,\n",
       "         'parks': 1,\n",
       "         'planned': 1,\n",
       "         'schools': 1,\n",
       "         'shopping': 1,\n",
       "         'suburban': 1,\n",
       "         'to': 1,\n",
       "         'well': 1})"
      ]
     },
     "execution_count": 16,
     "metadata": {},
     "output_type": "execute_result"
    }
   ],
   "source": [
    "df['word_count'][0]"
   ]
  }
 ],
 "metadata": {
  "kernelspec": {
   "display_name": "Python 3",
   "language": "python",
   "name": "python3"
  },
  "language_info": {
   "codemirror_mode": {
    "name": "ipython",
    "version": 3
   },
   "file_extension": ".py",
   "mimetype": "text/x-python",
   "name": "python",
   "nbconvert_exporter": "python",
   "pygments_lexer": "ipython3",
   "version": "3.6.0"
  }
 },
 "nbformat": 4,
 "nbformat_minor": 2
}
